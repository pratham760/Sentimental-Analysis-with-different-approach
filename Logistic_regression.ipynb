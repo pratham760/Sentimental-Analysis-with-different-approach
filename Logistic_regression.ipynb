{
 "cells": [
  {
   "cell_type": "code",
   "execution_count": 1,
   "metadata": {},
   "outputs": [],
   "source": [
    "import pandas as pd \n",
    "header = ['lable','id','time','query','people','tweets']\n",
    "df=pd.read_csv('neg_tweets.csv',names=header)"
   ]
  },
  {
   "cell_type": "code",
   "execution_count": 2,
   "metadata": {},
   "outputs": [
    {
     "name": "stdout",
     "output_type": "stream",
     "text": [
      "     lable          id                          time     query  \\\n",
      "0        0  1467810369  Mon Apr 06 22:19:45 PDT 2009  NO_QUERY   \n",
      "1        0  1467810672  Mon Apr 06 22:19:49 PDT 2009  NO_QUERY   \n",
      "2        0  1467810917  Mon Apr 06 22:19:53 PDT 2009  NO_QUERY   \n",
      "3        0  1467811184  Mon Apr 06 22:19:57 PDT 2009  NO_QUERY   \n",
      "4        0  1467811193  Mon Apr 06 22:19:57 PDT 2009  NO_QUERY   \n",
      "5        0  1467811372  Mon Apr 06 22:20:00 PDT 2009  NO_QUERY   \n",
      "6        0  1467811592  Mon Apr 06 22:20:03 PDT 2009  NO_QUERY   \n",
      "7        0  1467811594  Mon Apr 06 22:20:03 PDT 2009  NO_QUERY   \n",
      "8        0  1467811795  Mon Apr 06 22:20:05 PDT 2009  NO_QUERY   \n",
      "9        0  1467812025  Mon Apr 06 22:20:09 PDT 2009  NO_QUERY   \n",
      "10       0  1467812416  Mon Apr 06 22:20:16 PDT 2009  NO_QUERY   \n",
      "11       0  1467812579  Mon Apr 06 22:20:17 PDT 2009  NO_QUERY   \n",
      "12       0  1467812723  Mon Apr 06 22:20:19 PDT 2009  NO_QUERY   \n",
      "13       0  1467812771  Mon Apr 06 22:20:19 PDT 2009  NO_QUERY   \n",
      "14       0  1467812784  Mon Apr 06 22:20:20 PDT 2009  NO_QUERY   \n",
      "15       0  1467812799  Mon Apr 06 22:20:20 PDT 2009  NO_QUERY   \n",
      "16       0  1467812964  Mon Apr 06 22:20:22 PDT 2009  NO_QUERY   \n",
      "17       0  1467813137  Mon Apr 06 22:20:25 PDT 2009  NO_QUERY   \n",
      "18       0  1467813579  Mon Apr 06 22:20:31 PDT 2009  NO_QUERY   \n",
      "19       0  1467813782  Mon Apr 06 22:20:34 PDT 2009  NO_QUERY   \n",
      "20       0  1467813985  Mon Apr 06 22:20:37 PDT 2009  NO_QUERY   \n",
      "21       0  1467813992  Mon Apr 06 22:20:38 PDT 2009  NO_QUERY   \n",
      "22       0  1467814119  Mon Apr 06 22:20:40 PDT 2009  NO_QUERY   \n",
      "23       0  1467814180  Mon Apr 06 22:20:40 PDT 2009  NO_QUERY   \n",
      "24       0  1467814192  Mon Apr 06 22:20:41 PDT 2009  NO_QUERY   \n",
      "25       0  1467814438  Mon Apr 06 22:20:44 PDT 2009  NO_QUERY   \n",
      "26       0  1467814783  Mon Apr 06 22:20:50 PDT 2009  NO_QUERY   \n",
      "27       0  1467814883  Mon Apr 06 22:20:52 PDT 2009  NO_QUERY   \n",
      "28       0  1467815199  Mon Apr 06 22:20:56 PDT 2009  NO_QUERY   \n",
      "29       0  1467815753  Mon Apr 06 22:21:04 PDT 2009  NO_QUERY   \n",
      "..     ...         ...                           ...       ...   \n",
      "179      0  1467857378  Mon Apr 06 22:31:57 PDT 2009  NO_QUERY   \n",
      "180      0  1467857511  Mon Apr 06 22:31:59 PDT 2009  NO_QUERY   \n",
      "181      0  1467857722  Mon Apr 06 22:32:02 PDT 2009  NO_QUERY   \n",
      "182      0  1467857975  Mon Apr 06 22:32:06 PDT 2009  NO_QUERY   \n",
      "183      0  1467858363  Mon Apr 06 22:32:12 PDT 2009  NO_QUERY   \n",
      "184      0  1467858627  Mon Apr 06 22:32:16 PDT 2009  NO_QUERY   \n",
      "185      0  1467858869  Mon Apr 06 22:32:20 PDT 2009  NO_QUERY   \n",
      "186      0  1467859025  Mon Apr 06 22:32:22 PDT 2009  NO_QUERY   \n",
      "187      0  1467859066  Mon Apr 06 22:32:23 PDT 2009  NO_QUERY   \n",
      "188      0  1467859408  Mon Apr 06 22:32:28 PDT 2009  NO_QUERY   \n",
      "189      0  1467859436  Mon Apr 06 22:32:28 PDT 2009  NO_QUERY   \n",
      "190      0  1467859558  Mon Apr 06 22:32:30 PDT 2009  NO_QUERY   \n",
      "191      0  1467859666  Mon Apr 06 22:32:31 PDT 2009  NO_QUERY   \n",
      "192      0  1467859820  Mon Apr 06 22:32:36 PDT 2009  NO_QUERY   \n",
      "193      0  1467859922  Mon Apr 06 22:32:35 PDT 2009  NO_QUERY   \n",
      "194      0  1467860144  Mon Apr 06 22:32:38 PDT 2009  NO_QUERY   \n",
      "195      0  1467860268  Mon Apr 06 22:32:40 PDT 2009  NO_QUERY   \n",
      "196      0  1467860895  Mon Apr 06 22:32:50 PDT 2009  NO_QUERY   \n",
      "197      0  1467860904  Mon Apr 06 22:32:51 PDT 2009  NO_QUERY   \n",
      "198      0  1467861095  Mon Apr 06 22:32:54 PDT 2009  NO_QUERY   \n",
      "199      0  1467861413  Mon Apr 06 22:32:58 PDT 2009  NO_QUERY   \n",
      "200      0  1467861522  Mon Apr 06 22:33:00 PDT 2009  NO_QUERY   \n",
      "201      0  1467861571  Mon Apr 06 22:33:01 PDT 2009  NO_QUERY   \n",
      "202      0  1467862213  Mon Apr 06 22:33:11 PDT 2009  NO_QUERY   \n",
      "203      0  1467862313  Mon Apr 06 22:33:13 PDT 2009  NO_QUERY   \n",
      "204      0  1467862355  Mon Apr 06 22:33:13 PDT 2009  NO_QUERY   \n",
      "205      0  1467862411  Mon Apr 06 22:33:16 PDT 2009  NO_QUERY   \n",
      "206      0  1467862710  Mon Apr 06 22:33:20 PDT 2009  NO_QUERY   \n",
      "207      0  1467862806  Mon Apr 06 22:33:21 PDT 2009  NO_QUERY   \n",
      "208      0  1467863072  Mon Apr 06 22:33:25 PDT 2009       NaN   \n",
      "\n",
      "              people                                             tweets  \n",
      "0    _TheSpecialOne_  @switchfoot http://twitpic.com/2y1zl - Awww, t...  \n",
      "1      scotthamilton  is upset that he can't update his Facebook by ...  \n",
      "2           mattycus  @Kenichan I dived many times for the ball. Man...  \n",
      "3            ElleCTF    my whole body feels itchy and like its on fire   \n",
      "4             Karoli  @nationwideclass no, it's not behaving at all....  \n",
      "5           joy_wolf                      @Kwesidei not the whole crew   \n",
      "6            mybirch                                        Need a hug   \n",
      "7               coZZ  @LOLTrish hey  long time no see! Yes.. Rains a...  \n",
      "8    2Hood4Hollywood               @Tatiana_K nope they didn't have it   \n",
      "9            mimismo                          @twittera que me muera ?   \n",
      "10    erinx3leannexo        spring break in plain city... it's snowing   \n",
      "11      pardonlauren                         I just re-pierced my ears   \n",
      "12              TLeC  @caregiving I couldn't bear to watch it.  And ...  \n",
      "13   robrobbierobert  @octolinz16 It it counts, idk why I did either...  \n",
      "14       bayofwolves  @smarrison i would've been the first, but i di...  \n",
      "15        HairByJess  @iamjazzyfizzle I wish I got to watch it with ...  \n",
      "16    lovesongwriter  Hollis' death scene will hurt me severely to w...  \n",
      "17          armotley                               about to file taxes   \n",
      "18        starkissed  @LettyA ahh ive always wanted to see rent  lov...  \n",
      "19         gi_gi_bee  @FakerPattyPattz Oh dear. Were you drinking ou...  \n",
      "20            quanvu  @alydesigns i was out most of the day so didn'...  \n",
      "21        swinspeedx  one of my friend called me, and asked to meet ...  \n",
      "22         cooliodoc   @angry_barista I baked you a cake but I ated it   \n",
      "23        viJILLante             this week is not going as i had hoped   \n",
      "24        Ljelli3166                         blagh class at 8 tomorrow   \n",
      "25     ChicagoCubbie     I hate when I have to call and wake people up   \n",
      "26       KatieAngell  Just going to cry myself to sleep after watchi...  \n",
      "27             gagoo                             im sad now  Miss.Lilly  \n",
      "28           abel209  ooooh.... LOL  that leslie.... and ok I won't ...  \n",
      "29   BaptisteTheFool  Meh... Almost Lover is the exception... this t...  \n",
      "..               ...                                                ...  \n",
      "179       Shabbybebe  Staying at a friends house...house sitting, ne...  \n",
      "180        fatkat309  @dannyvegasbaby danny im upset that i wasnt he...  \n",
      "181  blackheartbunny  Check out my mug  http://www.erika-obscura.blo...  \n",
      "182       szrhnds602                              Borders closed at 10   \n",
      "183          schammy  Downloading NIN's new album &quot;the slip&quo...  \n",
      "184        mariotani  Just woke up an already have written some e-ma...  \n",
      "185       Jaderade14   is watching the hill . . .and its making me sad   \n",
      "186       LeeseEllen  So many channels.... yet so so boring... lazy ...  \n",
      "187        FNFKayCee  @supersport I miss my buddy  ill be in NY on t...  \n",
      "188       CaddyStage  @robluketic  love the french. I tell people he...  \n",
      "189        ha_nobita  Opps.. As I said.. I still got one day remain ...  \n",
      "190        tchviolin  I activated my Selfcontrol block early, meanin...  \n",
      "191  DreamActivist23                                   @HillyDoP  oH NO  \n",
      "192    msbutt3rfly14                        spencer is not a good guy.   \n",
      "193       Karmatical  @goodlaura What about Reese dying on #TTSC? An...  \n",
      "194         Jana1976  @JonathanRKnight I hate the limited letters,to...  \n",
      "195          AmyJade       didn't get shit done today ~ i'm so screwed   \n",
      "196        tantrixie                                 wanttss to go out   \n",
      "197    supersharayah                     Is not going to sleep tonite.   \n",
      "198     bluepaintred             too worried and tired to post tonight   \n",
      "199          AmyJade     couldn't get shit done today ~ i'm so screwed   \n",
      "200     bovinemammal  Job Interview in Cardiff today, wish me luck! ...  \n",
      "201      jessejoseph  @stustone Your show is whack. Way worse than w...  \n",
      "202       lennytoups  @DjAlizay I really don't think people choose t...  \n",
      "203    paulverhoeven  @eloquentembrace You're going to kill me, but ...  \n",
      "204         Britty88  @cheechbud i think ur right!! hahaha!! 4.5 hrs...  \n",
      "205  stephaniekmusic                 i hate to see the spartans so sad   \n",
      "206          Jemimus  My mind and body are severely protesting this ...  \n",
      "207   Sweetpineapple  @MySteezRadio I'm goin' to follow u, since u d...  \n",
      "208              NaN                                                NaN  \n",
      "\n",
      "[209 rows x 6 columns]\n"
     ]
    }
   ],
   "source": [
    "print(df)"
   ]
  },
  {
   "cell_type": "code",
   "execution_count": 3,
   "metadata": {},
   "outputs": [
    {
     "name": "stdout",
     "output_type": "stream",
     "text": [
      "0      @switchfoot http://twitpic.com/2y1zl - Awww, t...\n",
      "1      is upset that he can't update his Facebook by ...\n",
      "2      @Kenichan I dived many times for the ball. Man...\n",
      "3        my whole body feels itchy and like its on fire \n",
      "4      @nationwideclass no, it's not behaving at all....\n",
      "5                          @Kwesidei not the whole crew \n",
      "6                                            Need a hug \n",
      "7      @LOLTrish hey  long time no see! Yes.. Rains a...\n",
      "8                   @Tatiana_K nope they didn't have it \n",
      "9                              @twittera que me muera ? \n",
      "10           spring break in plain city... it's snowing \n",
      "11                            I just re-pierced my ears \n",
      "12     @caregiving I couldn't bear to watch it.  And ...\n",
      "13     @octolinz16 It it counts, idk why I did either...\n",
      "14     @smarrison i would've been the first, but i di...\n",
      "15     @iamjazzyfizzle I wish I got to watch it with ...\n",
      "16     Hollis' death scene will hurt me severely to w...\n",
      "17                                  about to file taxes \n",
      "18     @LettyA ahh ive always wanted to see rent  lov...\n",
      "19     @FakerPattyPattz Oh dear. Were you drinking ou...\n",
      "20     @alydesigns i was out most of the day so didn'...\n",
      "21     one of my friend called me, and asked to meet ...\n",
      "22      @angry_barista I baked you a cake but I ated it \n",
      "23                this week is not going as i had hoped \n",
      "24                            blagh class at 8 tomorrow \n",
      "25        I hate when I have to call and wake people up \n",
      "26     Just going to cry myself to sleep after watchi...\n",
      "27                                im sad now  Miss.Lilly\n",
      "28     ooooh.... LOL  that leslie.... and ok I won't ...\n",
      "29     Meh... Almost Lover is the exception... this t...\n",
      "                             ...                        \n",
      "179    Staying at a friends house...house sitting, ne...\n",
      "180    @dannyvegasbaby danny im upset that i wasnt he...\n",
      "181    Check out my mug  http://www.erika-obscura.blo...\n",
      "182                                Borders closed at 10 \n",
      "183    Downloading NIN's new album &quot;the slip&quo...\n",
      "184    Just woke up an already have written some e-ma...\n",
      "185     is watching the hill . . .and its making me sad \n",
      "186    So many channels.... yet so so boring... lazy ...\n",
      "187    @supersport I miss my buddy  ill be in NY on t...\n",
      "188    @robluketic  love the french. I tell people he...\n",
      "189    Opps.. As I said.. I still got one day remain ...\n",
      "190    I activated my Selfcontrol block early, meanin...\n",
      "191                                     @HillyDoP  oH NO\n",
      "192                          spencer is not a good guy. \n",
      "193    @goodlaura What about Reese dying on #TTSC? An...\n",
      "194    @JonathanRKnight I hate the limited letters,to...\n",
      "195         didn't get shit done today ~ i'm so screwed \n",
      "196                                   wanttss to go out \n",
      "197                       Is not going to sleep tonite. \n",
      "198               too worried and tired to post tonight \n",
      "199       couldn't get shit done today ~ i'm so screwed \n",
      "200    Job Interview in Cardiff today, wish me luck! ...\n",
      "201    @stustone Your show is whack. Way worse than w...\n",
      "202    @DjAlizay I really don't think people choose t...\n",
      "203    @eloquentembrace You're going to kill me, but ...\n",
      "204    @cheechbud i think ur right!! hahaha!! 4.5 hrs...\n",
      "205                   i hate to see the spartans so sad \n",
      "206    My mind and body are severely protesting this ...\n",
      "207    @MySteezRadio I'm goin' to follow u, since u d...\n",
      "208                                                  NaN\n",
      "Name: tweets, Length: 209, dtype: object\n"
     ]
    }
   ],
   "source": [
    "print(df['tweets'])"
   ]
  },
  {
   "cell_type": "code",
   "execution_count": 4,
   "metadata": {},
   "outputs": [],
   "source": [
    "neg=df.tweets.fillna(' ')\n",
    "data_lable=[]\n",
    "data = []\n",
    "for i in neg:\n",
    "    data.append(i)\n",
    "    data_lable.append('neg')"
   ]
  },
  {
   "cell_type": "code",
   "execution_count": 5,
   "metadata": {},
   "outputs": [
    {
     "name": "stdout",
     "output_type": "stream",
     "text": [
      "[\"@switchfoot http://twitpic.com/2y1zl - Awww, that's a bummer.  You shoulda got David Carr of Third Day to do it. ;D\", \"is upset that he can't update his Facebook by texting it... and might cry as a result  School today also. Blah!\", '@Kenichan I dived many times for the ball. Managed to save 50%  The rest go out of bounds', 'my whole body feels itchy and like its on fire ', \"@nationwideclass no, it's not behaving at all. i'm mad. why am i here? because I can't see you all over there. \", '@Kwesidei not the whole crew ', 'Need a hug ', \"@LOLTrish hey  long time no see! Yes.. Rains a bit ,only a bit  LOL , I'm fine thanks , how's you ?\", \"@Tatiana_K nope they didn't have it \", '@twittera que me muera ? ', \"spring break in plain city... it's snowing \", 'I just re-pierced my ears ', \"@caregiving I couldn't bear to watch it.  And I thought the UA loss was embarrassing . . . . .\", '@octolinz16 It it counts, idk why I did either. you never talk to me anymore ', \"@smarrison i would've been the first, but i didn't have a gun.    not really though, zac snyder's just a doucheclown.\", '@iamjazzyfizzle I wish I got to watch it with you!! I miss you and @iamlilnicki  how was the premiere?!', \"Hollis' death scene will hurt me severely to watch on film  wry is directors cut not out now?\", 'about to file taxes ', '@LettyA ahh ive always wanted to see rent  love the soundtrack!!', '@FakerPattyPattz Oh dear. Were you drinking out of the forgotten table drinks? ', \"@alydesigns i was out most of the day so didn't get much done \", \"one of my friend called me, and asked to meet with her at Mid Valley today...but i've no time *sigh* \", '@angry_barista I baked you a cake but I ated it ', 'this week is not going as i had hoped ', 'blagh class at 8 tomorrow ', 'I hate when I have to call and wake people up ', 'Just going to cry myself to sleep after watching Marley and Me.  ', 'im sad now  Miss.Lilly', \"ooooh.... LOL  that leslie.... and ok I won't do it again so leslie won't  get mad again \", 'Meh... Almost Lover is the exception... this track gets me depressed every time. ', 'some1 hacked my account on aim  now i have to make a new one', '@alielayus I want to go to promote GEAR AND GROOVE but unfornately no ride there  I may b going to the one in Anaheim in May though', 'thought sleeping in was an option tomorrow but realizing that it now is not. evaluations in the morning and work in the afternoon! ', '@julieebaby awe i love you too!!!! 1 am here  i miss you', '@HumpNinja I cry my asian eyes to sleep at night ', \"ok I'm sick and spent an hour sitting in the shower cause I was too sick to stand and held back the puke like a champ. BED now \", '@cocomix04 ill tell ya the story later  not a good day and ill be workin for like three more hours...', '@MissXu sorry! bed time came here (GMT+1)   http://is.gd/fNge', \"@fleurylis I don't either. Its depressing. I don't think I even want to know about the kids in suitcases. \", \"Bed. Class 8-12. Work 12-3. Gym 3-5 or 6. Then class 6-10. Another day that's gonna fly by. I miss my girlfriend \", \"really don't feel like getting up today... but got to study to for tomorrows practical exam... \", \"He's the reason for the teardrops on my guitar the only one who has enough of me to break my heart \", \"Sad, sad, sad. I don't know why but I hate this feeling  I wanna sleep and I still can't!\", '@JonathanRKnight Awww I soo wish I was there to see you finally comfortable! Im sad that I missed it ', \"Falling asleep. Just heard about that Tracy girl's body being found. How sad  My heart breaks for that family.\", \"@Viennah Yay! I'm happy for you with your job! But that also means less time for me and you... \", 'Just checked my user timeline on my blackberry, it looks like the twanking is still happening  Are ppl still having probs w/ BGs and UIDs?', \"Oh man...was ironing @jeancjumbe's fave top to wear to a meeting. Burnt it \", 'is strangely sad about LiLo and SamRo breaking up. ', \"@tea oh! i'm so sorry  i didn't think about that before retweeting.\", \"Broadband plan 'a massive broken promise' http://tinyurl.com/dcuc33 via www.diigo.com/~tautao Still waiting for broadband we are \", \"@localtweeps Wow, tons of replies from you, may have to unfollow so I can see my friends' tweets, you're scrolling the feed a lot. \", 'our duck and chicken are taking wayyy too long to hatch ', 'Put vacation photos online a few yrs ago. PC crashed, and now I forget the name of the site. ', 'I need a hug ', '@andywana Not sure what they are, only that they are PoS! As much as I want to, I dont think can trade away company assets sorry andy! ', '@oanhLove I hate when that happens... ', \"I have a sad feeling that Dallas is not going to show up  I gotta say though, you'd think more shows would use music from the game. mmm\", 'Ugh....92 degrees tomorrow ', 'Where did u move to?  I thought u were already in sd. ?? Hmmm. Random u found me. Glad to hear yer doing well.', \"@BatManYNG I miss my ps3, it's out of commission  Wutcha playing? Have you copped 'Blood On The Sand'?\", 'just leaving the parking lot of work! ', 'The Life is cool. But not for Me. ', \"Sadly though, I've never gotten to experience the post coitus cigarette before, and now I never will. \", 'I had such a nice day. Too bad the rain comes in tomorrow at 5am ', \"@Starrbby too bad I won't be around I lost my job and can't even pay my phone bill lmao aw shucks \", 'Damm back to school tomorrow ', \"Mo jobs, no money.  how in the hell is min wage here 4 f'n clams an hour?\", '@katortiz  Not forever... See you soon!', '@Lt_Algonquin agreed, I saw the failwhale allllll day today. ', \"@jdarter Oh! Haha... dude I dont really look at em unless someone says HEY I ADDED YOU. Sorry  I'm so terrible at that. I need a pop up!\", \"@ninjen I'm sure you're right...    I need to start working out with you and the Nikster... Or Jared at least!\", 'i really hate how people diss my bands!  Trace is clearly NOT ugly!', 'Gym attire today was: Puma singlet, Adidas shorts.......and black business socks and leather shoes  Lucky did not run into any cute girls.', \"Why won't you show my location?!   http://twitpic.com/2y2es\", 'No picnic  my phone smells like citrus.', \"@ashleyac My donkey is sensitive about such comments. Nevertheless, he'd (and me'd) be glad to see your mug asap. Charger is still awol. \", 'No new csi tonight.  FML', 'i think my arms are sore from tennis ', 'wonders why someone that u like so much can make you so unhappy in a split seccond . depressed . ', 'sleep soon... i just hate saying bye and see you tomorrow for the night. ', '@statravelAU just got ur newsletter, those fares really are unbelievable, shame I already booked and paid for mine ', \"missin' the boo \", '@markhardy1974 Me too  #itm', \"Damn... I don't have any chalk! MY CHALKBOARD IS USELESS \", \"had a blast at the Getty Villa, but hates that she's had a sore throat all day. It's just getting worse too \", '@msdrama hey missed ya at the meeting  sup mama', \"My tummy hurts.  I wonder if the hypnosis has anything to do with it? If so, it's working, I get it, STOP SMOKING!!!\", 'why is it always the fat ones?! ', \"@januarycrimson Sorry, babe!!  My fam annoys me too. Thankfully, they're asleep right now. Muahaha. *evil laugh*\", '@Hollywoodheat I should have paid more attention when we covered photoshop in my webpage design class in undergrad ', \"wednesday my b-day! don't know what 2 do!! \", 'Poor cameron (the hills) ', 'pray for me please, the ex is threatening to start sh** at my/our babies 1st Birthday party. what a jerk. and I still have a headache ', '@makeherfamous hmm  , do u really enjoy being with him ? if the problems are too constants u should think things more , find someone ulike', 'Strider is a sick little puppy  http://apps.facebook.com/dogbook/profile/view/5248435', \"so rylee,grace...wana go steve's party or not?? SADLY SINCE ITS EASTER I WNT B ABLE 2 DO MUCH  BUT OHH WELL.....\", \"hey, I actually won one of my bracket pools! Too bad it wasn't the one for money \", \"@stark YOU don't follow me, either  and i work for you!\", 'A bad nite for the favorite teams: Astros and Spartans lose.  The nite out with T.W. was good.', ' Body Of Missing Northern Calif. Girl Found: Police have found the remains of a missing Northern California girl .. http://tr.im/imji', '@mangaaa I hope they will increase the capacity fast, yesterday was such a pain. Got the fail whale +15 times in 2 hours.... ', 'Behind on my classes for work ', 'watching &quot;House&quot; ', '@kpreyes Remember my bum leg? Strikes back this time its serious ', '@paradisej cool, i will. their are all kinds of complaints about this laptop online about overheating, but no recalls ', 'Emily will be glad when Mommy is done training at her new job. She misses her.  http://apps.facebook.com/dogbook/profile/view/6176014', 'would rather the first party send bad messages than the 3rd party send mixed ones  Sophmore year all over again?', \"@Henkuyinepu it's overrated \", '@marykatherine_q i know! I heard it this afternoon and wondered the same thing. Moscow is so behind the times ', 'laying in bed with no voice.. ', \"I'm sooo sad!!! they killed off Kutner on House  whyyyyyyyy\", '@jacobsummers Sorry  tell them mea culpa from me and that I really am sorry.', \"@Alliana07 it didn't make any sense to me, the suicide thing. I refuse to believe that that is actually what happened. \", '@salancaster  hope your ok.', \"@mercedesashley Damn! The grind is inspirational and saddening at the same time.  Don't want you to stop cuz I like what u do! Much love\", '@HibaNick yeah aw but i know i wudnt stand a chance ', 'ugh. cant sleep. its 1:30am. ', \"Hanging in Crooners. Wanna sing. Can't. Sucks. \", '@eRRe_sC aaw i miss ya all too.. im leaving to BH tomorrow &quot;morning&quot; i think.. aww i wanna go to the beach w u girls!! ', \"Is pissed off that there's no ASBA's for a radio station. \", \"wednesday my b-day n don't know what 2 do!  \", 'I know my life has been flipped upside down when I just thought in my head that some Ramen sounds good. ', 'I am in pain. My back and sides hurt. Not to mention crying is made of fail. ', \"Late night snack, glass of OJ b/c I'm &quot;down with the sickness&quot;, then back to sleep...ugh I hate getting sick... \", \"@allyheman but.. but.. but.. I'm not a big fan on camilla belle \", \"@grum WAH I can't see clip, must be el-stupido work filters. Can't wait 'till I get a 'puter. Something else 2 blame ex 4. He broke mine \", \"This week just seems to get longer and longer in terms of how much I need to do.. and how much I'm actually going to get done \", \"I'm so cold \", \"@thecoolestout Ehhh don't. Weather's gonna take a turn for the ugly tomorrow \", '@chelserlynn haha its so cooooold in the d! and no  but you should still go to the show. they do some incredible stuff', 'Hoping the tummy rumbles go away soon ', \"@Knights_ No, no notice. They told me I'd be working tomorrow, and then I called the agency to follow up and they said it was over. \", 'almost bedtime ', \"I'm missing you babe..  but as long as your alive I'm happy.. Yawwwnn.. I'm tired my love imma try to sleep hopefully you had a headstart\", 'Agh...snow!!! ', 'i miss kenny powers ', \"@BridgetsBeaches Thank you for letting people know, but now I'm sad that the direct message I got wasn't actually from Bridget \", '...and, India missed out its 100th Test victory n 10th consecutive win without a loss. ', \"@JonathanRKnight I guess that's a no then. \", 'sadly is going to bed. ', '@ozesteph1992 Shame to hear this Stephan ', \"@mrsaintnick hey! i'm leavin in the morning... \", 'Was intending to finish editing my 536-page novel manuscript tonight, but that will probably not happen. And only 12 pages are left ', 'laid around too much today... now my head hurts ', \"@twista202 I still haven't read the 9th&amp;10th Princess diaries  Saving Francesca made me cry at the end. Hmm those are easy books.\", 'my nokia 1110 died..  ', \"My mom might have breast cancer won't find out anything for. Like a week I'm so worried! \", 'Going to sleep. Hoping tomorrow is a better day. ', '@rumblepurr lol.. wish they understood daylight savings has ended though and breakfast is an hour later  They keep waking the kids up too', '@onemoreproject that is lame ', \"I don't understand... I really don't \", \"HEROES just isn't doing it for me this season... \", \"Living not downtown sure isn't much fun.  \", '@jonathanchard Not calorie wise   I wish junk food was calorie free! I ate a thing of sour skittles and a big ass cherry coke!', 'Man Work is Hard ', 'getting sick  time for some hot tea, studying, and then sleeeep', 'Getting eyebrows waxed. More pain ', 'No phantasy star yesterday  going to work...', \"Oh - Just got all my MacHeist 3.0 apps - sweet. Didn't get the Espresso serial no though although they said they sent it - oh well \", \"Picked Mich St to win it all from the get go.  Was feeling pretty good about that pick all the way up until......tonight.  A's lost too \", 'is alone downstairs...working ', 'I feel bad for doing it ', \"@RyanSeacrest is it just me, or she hates anoop. i mean seriously, she's kinda mean to him. \", '@pinkserendipity yes sprint has 4g only in baltimore and chicago so far ', \"I'm stuck awake in the middle of the night for the second day in a row. And I felt terrible yesterday. \", 'Thanks for bursting my bubble ', \"Going to school soon... can't find anything to wear!! gosh it's so hard \", '@marieclr I was serious  LOL', '@naughtyhaughty I had on my page for sooooo long!!! Until it got deleted  Sad day in history', 'Crazy wind today = no birding  http://ff.im/1XTTi', 'currently at work.. ', \"Grrr.. my ipods acting weird too! Jai ho and thinking of you aren't playing the full songs.. ughh. \", '@penndbad send me the DVD cos I have missed out on heaps  NOT happy about that!', \"i don't see the big deal with this website \", \"@machineplay I'm so sorry you're having to go through this. Again.  #therapyfail\", '@ColinDeMar Far too out of the way for rail.  any other tips?', \"I'm not still up I swear. Why do I keep losing. gaining. losing. gaining. tweeps?  So heart wrenching.\", \"Today I realized I am too good at hiding things, even I can't find it \", 'Staying at a friends house...house sitting, neighbors are SO loud-having a party ', '@dannyvegasbaby danny im upset that i wasnt here to watch the live chat  i was in a car. for 3 hours on a trip im soooo upset!!', 'Check out my mug  http://www.erika-obscura.blogspot.com', 'Borders closed at 10 ', \"Downloading NIN's new album &quot;the slip&quot; - when the hell did this come out? I'm so behind the times these days \", \"Just woke up an already have written some e-mail... I've to go early at University today as I have to teach at 8:30 AM! \", 'is watching the hill . . .and its making me sad ', 'So many channels.... yet so so boring... lazy day again  may have to find a hobby', '@supersport I miss my buddy  ill be in NY on the 25th', \"@robluketic  love the french. I tell people here in the south i'm qtr. french and they snarl at me.  french are beautiful people\", 'Opps.. As I said.. I still got one day remain and now problem come ', \"I activated my Selfcontrol block early, meaning I can't check out the new QC.  Regularizing my internal clock is might be difficult. #fb\", '@HillyDoP  oH NO', 'spencer is not a good guy. ', '@goodlaura What about Reese dying on #TTSC? And season finale next week.  #24 boring, Madame President is a crazy woman.', '@JonathanRKnight I hate the limited letters,too.Hope you and the guys are fine?I pray for my dog,sheï¿½s not well ', \"didn't get shit done today ~ i'm so screwed \", 'wanttss to go out ', 'Is not going to sleep tonite. ', 'too worried and tired to post tonight ', \"couldn't get shit done today ~ i'm so screwed \", 'Job Interview in Cardiff today, wish me luck! Got about 3 hours sleep ', \"@stustone Your show is whack. Way worse than whack, it's wiggety-whack.    :*(:*(:*(\", \"@DjAlizay I really don't think people choose to be that way. But I think he chose not to accept my family's help   He might be dead by now\", \"@eloquentembrace You're going to kill me, but I've not seen DS9. I've been waiting till I can do it in one solid week sitting. \", '@cheechbud i think ur right!! hahaha!! 4.5 hrs now!! ', 'i hate to see the spartans so sad ', 'My mind and body are severely protesting this &quot;getting up&quot;  thing. Had nightmares to boot ', \"@MySteezRadio I'm goin' to follow u, since u didn't  LOL  GO ANGELS!\", ' ']\n"
     ]
    }
   ],
   "source": [
    "print(data)"
   ]
  },
  {
   "cell_type": "code",
   "execution_count": 6,
   "metadata": {},
   "outputs": [
    {
     "name": "stdout",
     "output_type": "stream",
     "text": [
      "['neg', 'neg', 'neg', 'neg', 'neg', 'neg', 'neg', 'neg', 'neg', 'neg', 'neg', 'neg', 'neg', 'neg', 'neg', 'neg', 'neg', 'neg', 'neg', 'neg', 'neg', 'neg', 'neg', 'neg', 'neg', 'neg', 'neg', 'neg', 'neg', 'neg', 'neg', 'neg', 'neg', 'neg', 'neg', 'neg', 'neg', 'neg', 'neg', 'neg', 'neg', 'neg', 'neg', 'neg', 'neg', 'neg', 'neg', 'neg', 'neg', 'neg', 'neg', 'neg', 'neg', 'neg', 'neg', 'neg', 'neg', 'neg', 'neg', 'neg', 'neg', 'neg', 'neg', 'neg', 'neg', 'neg', 'neg', 'neg', 'neg', 'neg', 'neg', 'neg', 'neg', 'neg', 'neg', 'neg', 'neg', 'neg', 'neg', 'neg', 'neg', 'neg', 'neg', 'neg', 'neg', 'neg', 'neg', 'neg', 'neg', 'neg', 'neg', 'neg', 'neg', 'neg', 'neg', 'neg', 'neg', 'neg', 'neg', 'neg', 'neg', 'neg', 'neg', 'neg', 'neg', 'neg', 'neg', 'neg', 'neg', 'neg', 'neg', 'neg', 'neg', 'neg', 'neg', 'neg', 'neg', 'neg', 'neg', 'neg', 'neg', 'neg', 'neg', 'neg', 'neg', 'neg', 'neg', 'neg', 'neg', 'neg', 'neg', 'neg', 'neg', 'neg', 'neg', 'neg', 'neg', 'neg', 'neg', 'neg', 'neg', 'neg', 'neg', 'neg', 'neg', 'neg', 'neg', 'neg', 'neg', 'neg', 'neg', 'neg', 'neg', 'neg', 'neg', 'neg', 'neg', 'neg', 'neg', 'neg', 'neg', 'neg', 'neg', 'neg', 'neg', 'neg', 'neg', 'neg', 'neg', 'neg', 'neg', 'neg', 'neg', 'neg', 'neg', 'neg', 'neg', 'neg', 'neg', 'neg', 'neg', 'neg', 'neg', 'neg', 'neg', 'neg', 'neg', 'neg', 'neg', 'neg', 'neg', 'neg', 'neg', 'neg', 'neg', 'neg', 'neg', 'neg', 'neg', 'neg', 'neg', 'neg', 'neg', 'neg', 'neg', 'neg', 'neg', 'neg', 'neg']\n"
     ]
    }
   ],
   "source": [
    "print(data_lable)"
   ]
  },
  {
   "cell_type": "code",
   "execution_count": 7,
   "metadata": {},
   "outputs": [
    {
     "name": "stdout",
     "output_type": "stream",
     "text": [
      "209\n",
      "209\n"
     ]
    }
   ],
   "source": [
    "print(len(data))\n",
    "print(len(data_lable))"
   ]
  },
  {
   "cell_type": "code",
   "execution_count": 8,
   "metadata": {},
   "outputs": [
    {
     "name": "stdout",
     "output_type": "stream",
     "text": [
      "0                        @pablowapsi The Little Mermaid \n",
      "1      @cosita things are pretty good. Hopefully gett...\n",
      "2      @MissKeriBaby Pay attention to your dreams - G...\n",
      "3      About to go outside and work. Excited for goin...\n",
      "4                       Im watching TERMINATOR tommorow \n",
      "5                         @LaughterAndJoy &lt;blush&gt; \n",
      "6      @MollieOfficial lmao  glasgow is gonna be so g...\n",
      "7      Good Morning! Going to get these roots done - ...\n",
      "8           TGIF   Hope everyone has a fabulous weekend \n",
      "9                   @DrRez Thanks for the followfriday! \n",
      "10     @Penny_Lope YOU SUCK!!!! lol Have a great time...\n",
      "11     Pepsi Throwback and Mountain Dew Throwback are...\n",
      "12     Sobuki knows it's bad form for DJ to dance to ...\n",
      "13     @ecotricity - planet powa! the world record wi...\n",
      "14                          Party tonight  shake it ....\n",
      "15     I just got my nose pierced!! I love it  And th...\n",
      "16     Gooooooooooodmorning! The sun is up and shinin...\n",
      "17                             @murz13 Thanks for that. \n",
      "18          @nerdboner sure! I have plenty to share!!!! \n",
      "19     goooood morning!  time for work...ugh...TGIF!!...\n",
      "20     ...its Friday! &amp; another relaxing weekend ...\n",
      "21     In Love..can't wait to run my hands all over y...\n",
      "22     had a lovely afternoon picnicing, playing fris...\n",
      "23     Just drunk a coffe,but I'm still sleeping lol....\n",
      "24     @ashleyraebby it's just an awards show. That t...\n",
      "25                  @allisonpeltz haha  I can't help it!\n",
      "26                            @JohnLloydTaylor have fun \n",
      "27                           @beauche  you are so funny.\n",
      "28     @The_Gary_Show Ha! We got Garibaldi's, Bourbon...\n",
      "29                            NP  @feblub  #followfriday\n",
      "                             ...                        \n",
      "84                                     finally weekend! \n",
      "85     @SteviBianca keep quoting Soulja Boy and i WIL...\n",
      "86     zomg, my previous tweet was my 101th!  movie s...\n",
      "87                    I saw @paigejavier at Mary Grace! \n",
      "88     1 thing I like about the subway: randomly meet...\n",
      "89        @GillDeCosemo Thank you for the follow friday \n",
      "90                        and this  http://bit.ly/19bJGz\n",
      "91                                           @ItsJustDi \n",
      "92          Holy Only 12 fucking days till i see callum \n",
      "93     @sonnycentral Thank you! I did  Have a great day!\n",
      "94     @JonathanRKnight You have the same sense of hu...\n",
      "95     I'm eating cheezits...with TWO flavors!  sharp...\n",
      "96     TGIF snitches!!....kids acting chill...its pay...\n",
      "97     Going to class till noon.....Jammin out to the...\n",
      "98     #followfriday because he is as sick in the hea...\n",
      "99     watchin Espn's First Take! my favorite mornin ...\n",
      "100    is showering.  Then off to Robinson for a litt...\n",
      "101    Muhaha! ThankGoodness I missed RMCAAT2009 last...\n",
      "102    Good morning people of twitter. TGIFriday! Tha...\n",
      "103    Just sitting in the garden leting the sun do i...\n",
      "104                        in tampa... going to see him \n",
      "105    Looking forward to a mini-break in Isle of Wig...\n",
      "106    GRINGO STAR tonight. Southern garage.  http://...\n",
      "107    @DavidBass hee hee...I'll take rain over wind ...\n",
      "108    today's message in the church service was deli...\n",
      "109    Back home, thought I'd done for the week, but ...\n",
      "110             My GrandMa is making Dinenr with my Mum \n",
      "111    Mid-morning snack time... A bowl of cheese noo...\n",
      "112    @ShaDeLa same here  say it like from the Termi...\n",
      "113               @DestinyHope92 im great thaanks  wbuu?\n",
      "Name: tweets, Length: 114, dtype: object\n"
     ]
    }
   ],
   "source": [
    "dff = pd.read_csv('pos_tweets.csv',names=header)\n",
    "pos=dff.tweets.fillna(' ')\n",
    "print(pos)"
   ]
  },
  {
   "cell_type": "code",
   "execution_count": 9,
   "metadata": {},
   "outputs": [],
   "source": [
    "for i in pos:\n",
    "    data.append(i)\n",
    "    data_lable.append('pos')"
   ]
  },
  {
   "cell_type": "code",
   "execution_count": 10,
   "metadata": {},
   "outputs": [
    {
     "name": "stdout",
     "output_type": "stream",
     "text": [
      "[\"@switchfoot http://twitpic.com/2y1zl - Awww, that's a bummer.  You shoulda got David Carr of Third Day to do it. ;D\", \"is upset that he can't update his Facebook by texting it... and might cry as a result  School today also. Blah!\", '@Kenichan I dived many times for the ball. Managed to save 50%  The rest go out of bounds', 'my whole body feels itchy and like its on fire ', \"@nationwideclass no, it's not behaving at all. i'm mad. why am i here? because I can't see you all over there. \", '@Kwesidei not the whole crew ', 'Need a hug ', \"@LOLTrish hey  long time no see! Yes.. Rains a bit ,only a bit  LOL , I'm fine thanks , how's you ?\", \"@Tatiana_K nope they didn't have it \", '@twittera que me muera ? ', \"spring break in plain city... it's snowing \", 'I just re-pierced my ears ', \"@caregiving I couldn't bear to watch it.  And I thought the UA loss was embarrassing . . . . .\", '@octolinz16 It it counts, idk why I did either. you never talk to me anymore ', \"@smarrison i would've been the first, but i didn't have a gun.    not really though, zac snyder's just a doucheclown.\", '@iamjazzyfizzle I wish I got to watch it with you!! I miss you and @iamlilnicki  how was the premiere?!', \"Hollis' death scene will hurt me severely to watch on film  wry is directors cut not out now?\", 'about to file taxes ', '@LettyA ahh ive always wanted to see rent  love the soundtrack!!', '@FakerPattyPattz Oh dear. Were you drinking out of the forgotten table drinks? ', \"@alydesigns i was out most of the day so didn't get much done \", \"one of my friend called me, and asked to meet with her at Mid Valley today...but i've no time *sigh* \", '@angry_barista I baked you a cake but I ated it ', 'this week is not going as i had hoped ', 'blagh class at 8 tomorrow ', 'I hate when I have to call and wake people up ', 'Just going to cry myself to sleep after watching Marley and Me.  ', 'im sad now  Miss.Lilly', \"ooooh.... LOL  that leslie.... and ok I won't do it again so leslie won't  get mad again \", 'Meh... Almost Lover is the exception... this track gets me depressed every time. ', 'some1 hacked my account on aim  now i have to make a new one', '@alielayus I want to go to promote GEAR AND GROOVE but unfornately no ride there  I may b going to the one in Anaheim in May though', 'thought sleeping in was an option tomorrow but realizing that it now is not. evaluations in the morning and work in the afternoon! ', '@julieebaby awe i love you too!!!! 1 am here  i miss you', '@HumpNinja I cry my asian eyes to sleep at night ', \"ok I'm sick and spent an hour sitting in the shower cause I was too sick to stand and held back the puke like a champ. BED now \", '@cocomix04 ill tell ya the story later  not a good day and ill be workin for like three more hours...', '@MissXu sorry! bed time came here (GMT+1)   http://is.gd/fNge', \"@fleurylis I don't either. Its depressing. I don't think I even want to know about the kids in suitcases. \", \"Bed. Class 8-12. Work 12-3. Gym 3-5 or 6. Then class 6-10. Another day that's gonna fly by. I miss my girlfriend \", \"really don't feel like getting up today... but got to study to for tomorrows practical exam... \", \"He's the reason for the teardrops on my guitar the only one who has enough of me to break my heart \", \"Sad, sad, sad. I don't know why but I hate this feeling  I wanna sleep and I still can't!\", '@JonathanRKnight Awww I soo wish I was there to see you finally comfortable! Im sad that I missed it ', \"Falling asleep. Just heard about that Tracy girl's body being found. How sad  My heart breaks for that family.\", \"@Viennah Yay! I'm happy for you with your job! But that also means less time for me and you... \", 'Just checked my user timeline on my blackberry, it looks like the twanking is still happening  Are ppl still having probs w/ BGs and UIDs?', \"Oh man...was ironing @jeancjumbe's fave top to wear to a meeting. Burnt it \", 'is strangely sad about LiLo and SamRo breaking up. ', \"@tea oh! i'm so sorry  i didn't think about that before retweeting.\", \"Broadband plan 'a massive broken promise' http://tinyurl.com/dcuc33 via www.diigo.com/~tautao Still waiting for broadband we are \", \"@localtweeps Wow, tons of replies from you, may have to unfollow so I can see my friends' tweets, you're scrolling the feed a lot. \", 'our duck and chicken are taking wayyy too long to hatch ', 'Put vacation photos online a few yrs ago. PC crashed, and now I forget the name of the site. ', 'I need a hug ', '@andywana Not sure what they are, only that they are PoS! As much as I want to, I dont think can trade away company assets sorry andy! ', '@oanhLove I hate when that happens... ', \"I have a sad feeling that Dallas is not going to show up  I gotta say though, you'd think more shows would use music from the game. mmm\", 'Ugh....92 degrees tomorrow ', 'Where did u move to?  I thought u were already in sd. ?? Hmmm. Random u found me. Glad to hear yer doing well.', \"@BatManYNG I miss my ps3, it's out of commission  Wutcha playing? Have you copped 'Blood On The Sand'?\", 'just leaving the parking lot of work! ', 'The Life is cool. But not for Me. ', \"Sadly though, I've never gotten to experience the post coitus cigarette before, and now I never will. \", 'I had such a nice day. Too bad the rain comes in tomorrow at 5am ', \"@Starrbby too bad I won't be around I lost my job and can't even pay my phone bill lmao aw shucks \", 'Damm back to school tomorrow ', \"Mo jobs, no money.  how in the hell is min wage here 4 f'n clams an hour?\", '@katortiz  Not forever... See you soon!', '@Lt_Algonquin agreed, I saw the failwhale allllll day today. ', \"@jdarter Oh! Haha... dude I dont really look at em unless someone says HEY I ADDED YOU. Sorry  I'm so terrible at that. I need a pop up!\", \"@ninjen I'm sure you're right...    I need to start working out with you and the Nikster... Or Jared at least!\", 'i really hate how people diss my bands!  Trace is clearly NOT ugly!', 'Gym attire today was: Puma singlet, Adidas shorts.......and black business socks and leather shoes  Lucky did not run into any cute girls.', \"Why won't you show my location?!   http://twitpic.com/2y2es\", 'No picnic  my phone smells like citrus.', \"@ashleyac My donkey is sensitive about such comments. Nevertheless, he'd (and me'd) be glad to see your mug asap. Charger is still awol. \", 'No new csi tonight.  FML', 'i think my arms are sore from tennis ', 'wonders why someone that u like so much can make you so unhappy in a split seccond . depressed . ', 'sleep soon... i just hate saying bye and see you tomorrow for the night. ', '@statravelAU just got ur newsletter, those fares really are unbelievable, shame I already booked and paid for mine ', \"missin' the boo \", '@markhardy1974 Me too  #itm', \"Damn... I don't have any chalk! MY CHALKBOARD IS USELESS \", \"had a blast at the Getty Villa, but hates that she's had a sore throat all day. It's just getting worse too \", '@msdrama hey missed ya at the meeting  sup mama', \"My tummy hurts.  I wonder if the hypnosis has anything to do with it? If so, it's working, I get it, STOP SMOKING!!!\", 'why is it always the fat ones?! ', \"@januarycrimson Sorry, babe!!  My fam annoys me too. Thankfully, they're asleep right now. Muahaha. *evil laugh*\", '@Hollywoodheat I should have paid more attention when we covered photoshop in my webpage design class in undergrad ', \"wednesday my b-day! don't know what 2 do!! \", 'Poor cameron (the hills) ', 'pray for me please, the ex is threatening to start sh** at my/our babies 1st Birthday party. what a jerk. and I still have a headache ', '@makeherfamous hmm  , do u really enjoy being with him ? if the problems are too constants u should think things more , find someone ulike', 'Strider is a sick little puppy  http://apps.facebook.com/dogbook/profile/view/5248435', \"so rylee,grace...wana go steve's party or not?? SADLY SINCE ITS EASTER I WNT B ABLE 2 DO MUCH  BUT OHH WELL.....\", \"hey, I actually won one of my bracket pools! Too bad it wasn't the one for money \", \"@stark YOU don't follow me, either  and i work for you!\", 'A bad nite for the favorite teams: Astros and Spartans lose.  The nite out with T.W. was good.', ' Body Of Missing Northern Calif. Girl Found: Police have found the remains of a missing Northern California girl .. http://tr.im/imji', '@mangaaa I hope they will increase the capacity fast, yesterday was such a pain. Got the fail whale +15 times in 2 hours.... ', 'Behind on my classes for work ', 'watching &quot;House&quot; ', '@kpreyes Remember my bum leg? Strikes back this time its serious ', '@paradisej cool, i will. their are all kinds of complaints about this laptop online about overheating, but no recalls ', 'Emily will be glad when Mommy is done training at her new job. She misses her.  http://apps.facebook.com/dogbook/profile/view/6176014', 'would rather the first party send bad messages than the 3rd party send mixed ones  Sophmore year all over again?', \"@Henkuyinepu it's overrated \", '@marykatherine_q i know! I heard it this afternoon and wondered the same thing. Moscow is so behind the times ', 'laying in bed with no voice.. ', \"I'm sooo sad!!! they killed off Kutner on House  whyyyyyyyy\", '@jacobsummers Sorry  tell them mea culpa from me and that I really am sorry.', \"@Alliana07 it didn't make any sense to me, the suicide thing. I refuse to believe that that is actually what happened. \", '@salancaster  hope your ok.', \"@mercedesashley Damn! The grind is inspirational and saddening at the same time.  Don't want you to stop cuz I like what u do! Much love\", '@HibaNick yeah aw but i know i wudnt stand a chance ', 'ugh. cant sleep. its 1:30am. ', \"Hanging in Crooners. Wanna sing. Can't. Sucks. \", '@eRRe_sC aaw i miss ya all too.. im leaving to BH tomorrow &quot;morning&quot; i think.. aww i wanna go to the beach w u girls!! ', \"Is pissed off that there's no ASBA's for a radio station. \", \"wednesday my b-day n don't know what 2 do!  \", 'I know my life has been flipped upside down when I just thought in my head that some Ramen sounds good. ', 'I am in pain. My back and sides hurt. Not to mention crying is made of fail. ', \"Late night snack, glass of OJ b/c I'm &quot;down with the sickness&quot;, then back to sleep...ugh I hate getting sick... \", \"@allyheman but.. but.. but.. I'm not a big fan on camilla belle \", \"@grum WAH I can't see clip, must be el-stupido work filters. Can't wait 'till I get a 'puter. Something else 2 blame ex 4. He broke mine \", \"This week just seems to get longer and longer in terms of how much I need to do.. and how much I'm actually going to get done \", \"I'm so cold \", \"@thecoolestout Ehhh don't. Weather's gonna take a turn for the ugly tomorrow \", '@chelserlynn haha its so cooooold in the d! and no  but you should still go to the show. they do some incredible stuff', 'Hoping the tummy rumbles go away soon ', \"@Knights_ No, no notice. They told me I'd be working tomorrow, and then I called the agency to follow up and they said it was over. \", 'almost bedtime ', \"I'm missing you babe..  but as long as your alive I'm happy.. Yawwwnn.. I'm tired my love imma try to sleep hopefully you had a headstart\", 'Agh...snow!!! ', 'i miss kenny powers ', \"@BridgetsBeaches Thank you for letting people know, but now I'm sad that the direct message I got wasn't actually from Bridget \", '...and, India missed out its 100th Test victory n 10th consecutive win without a loss. ', \"@JonathanRKnight I guess that's a no then. \", 'sadly is going to bed. ', '@ozesteph1992 Shame to hear this Stephan ', \"@mrsaintnick hey! i'm leavin in the morning... \", 'Was intending to finish editing my 536-page novel manuscript tonight, but that will probably not happen. And only 12 pages are left ', 'laid around too much today... now my head hurts ', \"@twista202 I still haven't read the 9th&amp;10th Princess diaries  Saving Francesca made me cry at the end. Hmm those are easy books.\", 'my nokia 1110 died..  ', \"My mom might have breast cancer won't find out anything for. Like a week I'm so worried! \", 'Going to sleep. Hoping tomorrow is a better day. ', '@rumblepurr lol.. wish they understood daylight savings has ended though and breakfast is an hour later  They keep waking the kids up too', '@onemoreproject that is lame ', \"I don't understand... I really don't \", \"HEROES just isn't doing it for me this season... \", \"Living not downtown sure isn't much fun.  \", '@jonathanchard Not calorie wise   I wish junk food was calorie free! I ate a thing of sour skittles and a big ass cherry coke!', 'Man Work is Hard ', 'getting sick  time for some hot tea, studying, and then sleeeep', 'Getting eyebrows waxed. More pain ', 'No phantasy star yesterday  going to work...', \"Oh - Just got all my MacHeist 3.0 apps - sweet. Didn't get the Espresso serial no though although they said they sent it - oh well \", \"Picked Mich St to win it all from the get go.  Was feeling pretty good about that pick all the way up until......tonight.  A's lost too \", 'is alone downstairs...working ', 'I feel bad for doing it ', \"@RyanSeacrest is it just me, or she hates anoop. i mean seriously, she's kinda mean to him. \", '@pinkserendipity yes sprint has 4g only in baltimore and chicago so far ', \"I'm stuck awake in the middle of the night for the second day in a row. And I felt terrible yesterday. \", 'Thanks for bursting my bubble ', \"Going to school soon... can't find anything to wear!! gosh it's so hard \", '@marieclr I was serious  LOL', '@naughtyhaughty I had on my page for sooooo long!!! Until it got deleted  Sad day in history', 'Crazy wind today = no birding  http://ff.im/1XTTi', 'currently at work.. ', \"Grrr.. my ipods acting weird too! Jai ho and thinking of you aren't playing the full songs.. ughh. \", '@penndbad send me the DVD cos I have missed out on heaps  NOT happy about that!', \"i don't see the big deal with this website \", \"@machineplay I'm so sorry you're having to go through this. Again.  #therapyfail\", '@ColinDeMar Far too out of the way for rail.  any other tips?', \"I'm not still up I swear. Why do I keep losing. gaining. losing. gaining. tweeps?  So heart wrenching.\", \"Today I realized I am too good at hiding things, even I can't find it \", 'Staying at a friends house...house sitting, neighbors are SO loud-having a party ', '@dannyvegasbaby danny im upset that i wasnt here to watch the live chat  i was in a car. for 3 hours on a trip im soooo upset!!', 'Check out my mug  http://www.erika-obscura.blogspot.com', 'Borders closed at 10 ', \"Downloading NIN's new album &quot;the slip&quot; - when the hell did this come out? I'm so behind the times these days \", \"Just woke up an already have written some e-mail... I've to go early at University today as I have to teach at 8:30 AM! \", 'is watching the hill . . .and its making me sad ', 'So many channels.... yet so so boring... lazy day again  may have to find a hobby', '@supersport I miss my buddy  ill be in NY on the 25th', \"@robluketic  love the french. I tell people here in the south i'm qtr. french and they snarl at me.  french are beautiful people\", 'Opps.. As I said.. I still got one day remain and now problem come ', \"I activated my Selfcontrol block early, meaning I can't check out the new QC.  Regularizing my internal clock is might be difficult. #fb\", '@HillyDoP  oH NO', 'spencer is not a good guy. ', '@goodlaura What about Reese dying on #TTSC? And season finale next week.  #24 boring, Madame President is a crazy woman.', '@JonathanRKnight I hate the limited letters,too.Hope you and the guys are fine?I pray for my dog,sheï¿½s not well ', \"didn't get shit done today ~ i'm so screwed \", 'wanttss to go out ', 'Is not going to sleep tonite. ', 'too worried and tired to post tonight ', \"couldn't get shit done today ~ i'm so screwed \", 'Job Interview in Cardiff today, wish me luck! Got about 3 hours sleep ', \"@stustone Your show is whack. Way worse than whack, it's wiggety-whack.    :*(:*(:*(\", \"@DjAlizay I really don't think people choose to be that way. But I think he chose not to accept my family's help   He might be dead by now\", \"@eloquentembrace You're going to kill me, but I've not seen DS9. I've been waiting till I can do it in one solid week sitting. \", '@cheechbud i think ur right!! hahaha!! 4.5 hrs now!! ', 'i hate to see the spartans so sad ', 'My mind and body are severely protesting this &quot;getting up&quot;  thing. Had nightmares to boot ', \"@MySteezRadio I'm goin' to follow u, since u didn't  LOL  GO ANGELS!\", ' ', '@pablowapsi The Little Mermaid ', '@cosita things are pretty good. Hopefully getting better soon  Are you planning a relaxing week end or are you still absorbed w/stuff?', \"@MissKeriBaby Pay attention to your dreams - God's angels often speak directly to our hearts when we are asleep.. \", 'About to go outside and work. Excited for going to the movies later with John ', 'Im watching TERMINATOR tommorow ', '@LaughterAndJoy &lt;blush&gt; ', '@MollieOfficial lmao  glasgow is gonna be so good! only 4 days to wait!!', \"Good Morning! Going to get these roots done - can't go into labor with bad hair! lol \", 'TGIF   Hope everyone has a fabulous weekend ', '@DrRez Thanks for the followfriday! ', '@Penny_Lope YOU SUCK!!!! lol Have a great time babe, give Jensen a squeeze from me  xx', \"Pepsi Throwback and Mountain Dew Throwback are NEW drinks without the HIGH FRUCTOSE CORN SYRUP... It's the way it should taste! \", \"Sobuki knows it's bad form for DJ to dance to their own music, but she can't help it; she really can't!!!  ? http://blip.fm/~798q6\", '@ecotricity - planet powa! the world record with greenbird- its awesum to watch          http://bit.ly/sFvBA', 'Party tonight  shake it ....', 'I just got my nose pierced!! I love it  And the sunshine makes me very happy today *smiles*', \"Gooooooooooodmorning! The sun is up and shining. It's a beautiful day. Just right for graduation, thank God! \", '@murz13 Thanks for that. ', '@nerdboner sure! I have plenty to share!!!! ', 'goooood morning!  time for work...ugh...TGIF!!!!! ', '...its Friday! &amp; another relaxing weekend at home is looking mighty goood! ', \"In Love..can't wait to run my hands all over your body, and kiss every inch of every part that I missed this week  xoxo See you soon!\", 'had a lovely afternoon picnicing, playing frisbee, and revising in the sun ', \"Just drunk a coffe,but I'm still sleeping lol...now drink a fresh lemonade and eat some marshmallows mmm...then study guitar! \", \"@ashleyraebby it's just an awards show. That takes place in Oberhausen. \", \"@allisonpeltz haha  I can't help it!\", '@JohnLloydTaylor have fun ', '@beauche  you are so funny.', \"@The_Gary_Show Ha! We got Garibaldi's, Bourbons and Cookies, take your pick Sir Gary!  TFF5 is going be d'bomb! \", 'NP  @feblub  #followfriday', '@taluta Aw wow, sounds amazing . My mate really loves Arcade games, I would have loved to been around when there was the Arcade craze ', 'Seeing Up today. ', \"@qclindalou good morning  my eyeballs hurt...i should've listened to you!\", \"@Switch42 @mishacollins My current fave is Burt's Bees - I love the minty tingle + it's all natural.  #mishaneedschapstick\", \"@steelegti If you mainline it then you won't taste it.  That's why I'd never mainline beer. \", 'breakfast in bed on my day off? Excellent idea ', '@googoodolls omg that is hilarious.  thanks for making my day ', 'On way home blasting mcfly in the back of the car in the sun good times ', '@Amanda_Holden Just looked on web to see if you own a motorbike!!. Only reference was to a PILLION RIDE for ï¿½10!!!! love it!!  xxx', '@latinprince whats good homie!! ill be there in 2-3 weeks ', 'JJ Cale &amp; Eric Clapton ï¿½ Ride The River Hello @Diordan  .....thank you @RightNowRadio ? http://blip.fm/~798qh', \"i'm so happy that my boyfriend, @baugli, has a twitter account already, follow him too \", 'Getting donuts because it is Friday  Oh, and the movie Up is out today!', '@Eminem The best singer  We love you', 'http://twitpic.com/66ljh - me and my sister at eco park  wee. boat ride was funn ', '@hopefulauthor Hi Jacqueline, thanks for the #followfriday ', '@1capplegate  Fine thanks, and you???  ', '&quot;Awesome&quot; night last night. Tried absinthe, hahah. Lovelovelove my friends. Megan is coming today! ', \"it's for the All Children's telethon, so there IS a reason. \", '@stephlalexander You mean Kelly Cartman? lol She got faaaaaaat. But who am I to talk about being a fatty fat fatty? ', 'my friends are missing..hey guys where are u...i miss you all..im stock here..middle of mountain and sea ', 'is back from the theater. A Night at the Museum 2 was hilarious. loved it.  http://plurk.com/p/x0vzs', '@SEGA Did my direct message test get to you? ', 'Nearly time to pick up Lysann and go for Thai! ', \"@aubreyoday almost famous is one of my fav's too .. i see u got quotes up from the movie  oxox\", '@Seefilmfirst I love film and i twitter! off to see the hangover on the monday...will review it after ', 'Thanks for #followfriday   @GfWarrior @AuthorofPatches @MKRob @RemieJames', '@rapidbi #followsabbath because he sends out cool stuff..hurry before Sundown!!  ', \"@BenTheCook Thanks for explaining.  I couldn't figure out what you were talking about. \", \"@JHAZEBeats Good look! Ty Woods is dope I'm listening now \", '@edwardbeaman Congrats, Edward!  Any tips to share with this newbie blogger? ', '@BloggerinChief1 lol so very true!  Hope you have a wonderful sunny weekend ', \"Playing 'Restaurant City' on Facebook. \", \"@mr_craig Thanks   Bless! Enjoy the innocence. The nephew in question is 18. He's one of the younger nephews (4 more + 4 nieces). I'm OLD\", '@MasterCardNews Bet on the Final, Get ï¿½25 cashback if your bet loses  http://tinyurl.com/qhoq8j', 'says haha. parang wla ako sa work. ang inaatupag ko? facebook,ym and plurk. haha. bad.  http://plurk.com/p/x0w0x', \"@cc_chapman Re your retweet about who 2 follow that's doing great things w/video for #followfriday ... @loubortone of course \", 'is on her way to the convention. Took a charter bus! ', '@amitgarg lol... I did the disappearing trick, tomorrow is going to be a fun if taxing day ', '@bxbeautie Good glad 2 hear it ', 'What Beautiful Friday!! Happy Friday Yall! ', '@heartlook HI!  Very welcome!! ', \"remembering when he was 16 and someone stole his RayBans from his car.  Jokes on them... they're fashion disasters now.  \", '@tessalouise7 p.s so excited about next weekend! metrossssss! we can hit the d floor ', 'daylight to break- switchfoot ', '@lpm962 Righto ', '@westleyl Off to buy some quality black pudding ', \"@teaforlife You're more than welcome!  \", 'It feels great to wake up in the morning and have nothing to do ', 'TGIF maybe I can get some sleep in tonight, another busy busy wkend ahead...lil sis graduating HS ', '@stormmmo you shush. if i wanna paint my nails 6 times a day.. ill do it. ', 'Schoolioo, Easy Day. Star Trek &amp; Mall w/ Allison tonight ', '@EstrellaBella10 Looks like someone read the handbook of &quot;How to get on the good side of new co-workers&quot; #brownies ', 'KAJ??? I ve loved you all my life!!!  ', 'finally weekend! ', '@SteviBianca keep quoting Soulja Boy and i WILL block u. Happy Friday ', 'zomg, my previous tweet was my 101th!  movie screening at home starting soon, ', 'I saw @paigejavier at Mary Grace! ', \"1 thing I like about the subway: randomly meeting someone I hadn't seen in 2+ yrs!  Love weird coincidences!\", '@GillDeCosemo Thank you for the follow friday ', 'and this  http://bit.ly/19bJGz', '@ItsJustDi ', 'Holy Only 12 fucking days till i see callum ', '@sonnycentral Thank you! I did  Have a great day!', '@JonathanRKnight You have the same sense of humor as one of my friends...LOVE IT! ', \"I'm eating cheezits...with TWO flavors!  sharp cheddar &amp; parmesan. :-D\", 'TGIF snitches!!....kids acting chill...its payday...keyshia/keri concert tonight..doubled up on excedrin. today is gonna be a good day! ', 'Going to class till noon.....Jammin out to the radio!! ', '#followfriday because he is as sick in the head as I am (and was whining he does not get tagged on fridays) @antonstrout ', \"watchin Espn's First Take! my favorite mornin show! lol Skip is great tv! fyi Im a Witness! \", 'is showering.  Then off to Robinson for a little shopping. ', 'Muhaha! ThankGoodness I missed RMCAAT2009 last date. RMCAAT is on 29th June, and I have exam of Principles of Mgmt. tht day. 1000Rs saved ', 'Good morning people of twitter. TGIFriday! Thats wassssup! Today is going to be a hellofagood day! ', 'Just sitting in the garden leting the sun do its job ', 'in tampa... going to see him ', 'Looking forward to a mini-break in Isle of Wight with friends this weekend. The weather - sun and more sun... ', 'GRINGO STAR tonight. Southern garage.  http://www.facebook.com/inbox/?ref=mb#/event.php?eid=80320708536', \"@DavidBass hee hee...I'll take rain over wind chill any day!  I love Costa Rica!\", \"today's message in the church service was delivered via skype's free service, technology is really cool. blessing via wi-fi \", \"Back home, thought I'd done for the week, but just had a call to alter something else for Monday Arrrrgh. Do it then start the Wkend \", 'My GrandMa is making Dinenr with my Mum ', 'Mid-morning snack time... A bowl of cheese noodles. Yum. ', '@ShaDeLa same here  say it like from the Terminiator movies. comes off like just 3 words. :-D', '@DestinyHope92 im great thaanks  wbuu?']\n",
      "['neg', 'neg', 'neg', 'neg', 'neg', 'neg', 'neg', 'neg', 'neg', 'neg', 'neg', 'neg', 'neg', 'neg', 'neg', 'neg', 'neg', 'neg', 'neg', 'neg', 'neg', 'neg', 'neg', 'neg', 'neg', 'neg', 'neg', 'neg', 'neg', 'neg', 'neg', 'neg', 'neg', 'neg', 'neg', 'neg', 'neg', 'neg', 'neg', 'neg', 'neg', 'neg', 'neg', 'neg', 'neg', 'neg', 'neg', 'neg', 'neg', 'neg', 'neg', 'neg', 'neg', 'neg', 'neg', 'neg', 'neg', 'neg', 'neg', 'neg', 'neg', 'neg', 'neg', 'neg', 'neg', 'neg', 'neg', 'neg', 'neg', 'neg', 'neg', 'neg', 'neg', 'neg', 'neg', 'neg', 'neg', 'neg', 'neg', 'neg', 'neg', 'neg', 'neg', 'neg', 'neg', 'neg', 'neg', 'neg', 'neg', 'neg', 'neg', 'neg', 'neg', 'neg', 'neg', 'neg', 'neg', 'neg', 'neg', 'neg', 'neg', 'neg', 'neg', 'neg', 'neg', 'neg', 'neg', 'neg', 'neg', 'neg', 'neg', 'neg', 'neg', 'neg', 'neg', 'neg', 'neg', 'neg', 'neg', 'neg', 'neg', 'neg', 'neg', 'neg', 'neg', 'neg', 'neg', 'neg', 'neg', 'neg', 'neg', 'neg', 'neg', 'neg', 'neg', 'neg', 'neg', 'neg', 'neg', 'neg', 'neg', 'neg', 'neg', 'neg', 'neg', 'neg', 'neg', 'neg', 'neg', 'neg', 'neg', 'neg', 'neg', 'neg', 'neg', 'neg', 'neg', 'neg', 'neg', 'neg', 'neg', 'neg', 'neg', 'neg', 'neg', 'neg', 'neg', 'neg', 'neg', 'neg', 'neg', 'neg', 'neg', 'neg', 'neg', 'neg', 'neg', 'neg', 'neg', 'neg', 'neg', 'neg', 'neg', 'neg', 'neg', 'neg', 'neg', 'neg', 'neg', 'neg', 'neg', 'neg', 'neg', 'neg', 'neg', 'neg', 'neg', 'neg', 'neg', 'neg', 'neg', 'neg', 'neg', 'neg', 'neg', 'neg', 'neg', 'neg', 'neg', 'pos', 'pos', 'pos', 'pos', 'pos', 'pos', 'pos', 'pos', 'pos', 'pos', 'pos', 'pos', 'pos', 'pos', 'pos', 'pos', 'pos', 'pos', 'pos', 'pos', 'pos', 'pos', 'pos', 'pos', 'pos', 'pos', 'pos', 'pos', 'pos', 'pos', 'pos', 'pos', 'pos', 'pos', 'pos', 'pos', 'pos', 'pos', 'pos', 'pos', 'pos', 'pos', 'pos', 'pos', 'pos', 'pos', 'pos', 'pos', 'pos', 'pos', 'pos', 'pos', 'pos', 'pos', 'pos', 'pos', 'pos', 'pos', 'pos', 'pos', 'pos', 'pos', 'pos', 'pos', 'pos', 'pos', 'pos', 'pos', 'pos', 'pos', 'pos', 'pos', 'pos', 'pos', 'pos', 'pos', 'pos', 'pos', 'pos', 'pos', 'pos', 'pos', 'pos', 'pos', 'pos', 'pos', 'pos', 'pos', 'pos', 'pos', 'pos', 'pos', 'pos', 'pos', 'pos', 'pos', 'pos', 'pos', 'pos', 'pos', 'pos', 'pos', 'pos', 'pos', 'pos', 'pos', 'pos', 'pos', 'pos', 'pos', 'pos', 'pos', 'pos', 'pos']\n"
     ]
    }
   ],
   "source": [
    "print(data)\n",
    "print(data_lable)"
   ]
  },
  {
   "cell_type": "code",
   "execution_count": 11,
   "metadata": {},
   "outputs": [
    {
     "name": "stdout",
     "output_type": "stream",
     "text": [
      "323\n",
      "323\n"
     ]
    }
   ],
   "source": [
    "print(len(data))\n",
    "print(len(data_lable))"
   ]
  },
  {
   "cell_type": "code",
   "execution_count": 12,
   "metadata": {},
   "outputs": [],
   "source": [
    "from sklearn.feature_extraction.text import CountVectorizer"
   ]
  },
  {
   "cell_type": "code",
   "execution_count": 13,
   "metadata": {},
   "outputs": [],
   "source": [
    "vector = CountVectorizer()"
   ]
  },
  {
   "cell_type": "code",
   "execution_count": 14,
   "metadata": {},
   "outputs": [
    {
     "name": "stdout",
     "output_type": "stream",
     "text": [
      "  (0, 695)\t1\n",
      "  (0, 371)\t1\n",
      "  (0, 1381)\t1\n",
      "  (0, 338)\t1\n",
      "  (0, 1362)\t1\n",
      "  (0, 958)\t1\n",
      "  (0, 242)\t1\n",
      "  (0, 336)\t1\n",
      "  (0, 560)\t1\n",
      "  (0, 1187)\t1\n",
      "  (0, 1557)\t1\n",
      "  (0, 212)\t1\n",
      "  (0, 1345)\t1\n",
      "  (0, 128)\t1\n",
      "  (0, 17)\t1\n",
      "  (0, 289)\t1\n",
      "  (0, 1414)\t1\n",
      "  (0, 660)\t1\n",
      "  (0, 1303)\t1\n",
      "  (1, 170)\t1\n",
      "  (1, 69)\t1\n",
      "  (1, 1382)\t1\n",
      "  (1, 1145)\t1\n",
      "  (1, 1105)\t1\n",
      "  (1, 101)\t1\n",
      "  :\t:\n",
      "  (320, 194)\t1\n",
      "  (320, 1219)\t1\n",
      "  (320, 891)\t1\n",
      "  (320, 862)\t1\n",
      "  (320, 1374)\t1\n",
      "  (320, 958)\t1\n",
      "  (321, 1525)\t1\n",
      "  (321, 1329)\t1\n",
      "  (321, 1174)\t1\n",
      "  (321, 898)\t1\n",
      "  (321, 959)\t1\n",
      "  (321, 1133)\t1\n",
      "  (321, 291)\t1\n",
      "  (321, 1141)\t1\n",
      "  (321, 517)\t1\n",
      "  (321, 723)\t1\n",
      "  (321, 624)\t1\n",
      "  (321, 771)\t2\n",
      "  (321, 1347)\t1\n",
      "  (321, 695)\t1\n",
      "  (322, 1475)\t1\n",
      "  (322, 1338)\t1\n",
      "  (322, 352)\t1\n",
      "  (322, 567)\t1\n",
      "  (322, 674)\t1\n"
     ]
    }
   ],
   "source": [
    "features = vector.fit_transform(data)\n",
    "print(features)"
   ]
  },
  {
   "cell_type": "code",
   "execution_count": 15,
   "metadata": {},
   "outputs": [],
   "source": [
    "feature_nd = features.toarray()"
   ]
  },
  {
   "cell_type": "code",
   "execution_count": 16,
   "metadata": {},
   "outputs": [
    {
     "name": "stdout",
     "output_type": "stream",
     "text": [
      "[[0 0 0 ... 0 0 0]\n",
      " [0 0 0 ... 0 0 0]\n",
      " [0 0 0 ... 0 0 0]\n",
      " ...\n",
      " [0 0 0 ... 0 0 0]\n",
      " [0 0 0 ... 0 0 0]\n",
      " [0 0 0 ... 0 0 0]]\n"
     ]
    }
   ],
   "source": [
    "print(feature_nd)"
   ]
  },
  {
   "cell_type": "code",
   "execution_count": 17,
   "metadata": {},
   "outputs": [
    {
     "name": "stderr",
     "output_type": "stream",
     "text": [
      "C:\\Users\\HP\\Anaconda3\\lib\\site-packages\\sklearn\\model_selection\\_split.py:2179: FutureWarning: From version 0.21, test_size will always complement train_size unless both are specified.\n",
      "  FutureWarning)\n"
     ]
    }
   ],
   "source": [
    "from sklearn.model_selection import train_test_split\n",
    "\n",
    "X_train, X_test, y_train, y_test  = train_test_split(\n",
    "        feature_nd, \n",
    "        data_lable,\n",
    "        train_size=0.80, \n",
    "        random_state=1234)"
   ]
  },
  {
   "cell_type": "code",
   "execution_count": 18,
   "metadata": {},
   "outputs": [],
   "source": [
    "from sklearn.linear_model import LogisticRegression"
   ]
  },
  {
   "cell_type": "code",
   "execution_count": 19,
   "metadata": {},
   "outputs": [
    {
     "name": "stderr",
     "output_type": "stream",
     "text": [
      "C:\\Users\\HP\\Anaconda3\\lib\\site-packages\\sklearn\\linear_model\\logistic.py:433: FutureWarning: Default solver will be changed to 'lbfgs' in 0.22. Specify a solver to silence this warning.\n",
      "  FutureWarning)\n"
     ]
    }
   ],
   "source": [
    "lr = LogisticRegression()\n",
    "lr=lr.fit(X_train,y_train)"
   ]
  },
  {
   "cell_type": "code",
   "execution_count": 20,
   "metadata": {},
   "outputs": [],
   "source": [
    "y_pred = lr.predict(X_test)"
   ]
  },
  {
   "cell_type": "code",
   "execution_count": 21,
   "metadata": {},
   "outputs": [
    {
     "name": "stdout",
     "output_type": "stream",
     "text": [
      "0.7230769230769231\n"
     ]
    }
   ],
   "source": [
    "from sklearn.metrics import accuracy_score\n",
    "print(accuracy_score(y_test, y_pred))"
   ]
  },
  {
   "cell_type": "code",
   "execution_count": null,
   "metadata": {},
   "outputs": [],
   "source": []
  }
 ],
 "metadata": {
  "kernelspec": {
   "display_name": "Python 3",
   "language": "python",
   "name": "python3"
  },
  "language_info": {
   "codemirror_mode": {
    "name": "ipython",
    "version": 3
   },
   "file_extension": ".py",
   "mimetype": "text/x-python",
   "name": "python",
   "nbconvert_exporter": "python",
   "pygments_lexer": "ipython3",
   "version": "3.7.1"
  }
 },
 "nbformat": 4,
 "nbformat_minor": 2
}
